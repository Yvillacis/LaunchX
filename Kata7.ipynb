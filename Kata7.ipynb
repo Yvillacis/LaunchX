{
 "cells": [
  {
   "cell_type": "markdown",
   "metadata": {},
   "source": [
    "Creación de un bucle \"while\""
   ]
  },
  {
   "cell_type": "code",
   "execution_count": 5,
   "metadata": {},
   "outputs": [
    {
     "name": "stdout",
     "output_type": "stream",
     "text": [
      "Los planetas registrados son:\n",
      "a\n",
      "d\n"
     ]
    }
   ],
   "source": [
    "# Declara dos variables\n",
    "name_planet=''\n",
    "lst_planets=[]\n",
    "\n",
    "#Crea un ciclo while\n",
    "while name_planet.lower()!='done':\n",
    "    if len(name_planet)>0:\n",
    "        lst_planets.append(name_planet)\n",
    "    name_planet=input('Escriba el nombre de una planeta or \"done\" cuando desee terminar de ingresar informacion.  ')\n",
    "\n",
    "print(\"Los planetas registrados son:\")\n",
    "#Creación de un ciclo \"for\"\n",
    "for planet in lst_planets:\n",
    "    print(planet)\n"
   ]
  }
 ],
 "metadata": {
  "interpreter": {
   "hash": "1e8ce49ce6fd8e59951dac52f79b6e2cf27040887d3a1980b69da67aca628ae5"
  },
  "kernelspec": {
   "display_name": "Python 3.10.2 64-bit",
   "language": "python",
   "name": "python3"
  },
  "language_info": {
   "codemirror_mode": {
    "name": "ipython",
    "version": 3
   },
   "file_extension": ".py",
   "mimetype": "text/x-python",
   "name": "python",
   "nbconvert_exporter": "python",
   "pygments_lexer": "ipython3",
   "version": "3.10.2"
  },
  "orig_nbformat": 4
 },
 "nbformat": 4,
 "nbformat_minor": 2
}
