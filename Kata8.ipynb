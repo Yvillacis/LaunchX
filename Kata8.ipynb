{
 "cells": [
  {
   "cell_type": "markdown",
   "metadata": {},
   "source": [
    "Creación de diccionarios de Python"
   ]
  },
  {
   "cell_type": "code",
   "execution_count": 34,
   "metadata": {},
   "outputs": [
    {
     "name": "stdout",
     "output_type": "stream",
     "text": [
      "La luna hasta el momento almacenada es Mars, con un valor de 2 moons.\n",
      "{'name': 'Mars', 'moons': 2}\n",
      "La luna hasta el momento almacenada es Mars, con un valor de 2 moons y una circunferencia porlar de 6752\n",
      "La luna hasta el momento almacenada es Mars, con un valor de 2 moons y una circunferencia porlar de 67522 \n",
      "\n",
      "\n",
      "El mismo resultado con otro forma de obtener el valor del elemnto\n",
      "La luna hasta el momento almacenada es Mars, con un valor de 2 moons y una circunferencia porlar de 67522 \n"
     ]
    }
   ],
   "source": [
    "# Crea un diccionario llamado planet con los datos propuestos\n",
    "\n",
    "planet={\n",
    "    'name': 'Mars',\n",
    "    'moons': 2\n",
    "}\n",
    "\n",
    "# Muestra el nombre del planeta y el número de lunas que tiene.\n",
    "print(f'La luna hasta el momento almacenada es {planet.get(\"name\")}, con un valor de {planet.get(\"moons\")} moons.')\n",
    "\n",
    "#Agrega un nuevo valor con una clave de 'circunferencia (km)'. Este nuevo valor debería almacenar un diccionario con las dos circunferencias del planeta:\n",
    "    #polar: 6752\n",
    "    #equatorial: 6792\n",
    "# Agrega la clave circunferencia con los datos proporcionados previamente\n",
    "print(planet)\n",
    "planet={\n",
    "    'name': 'Mars',\n",
    "    'moons': 2,\n",
    "    'circunferencia_Km':{\n",
    "    'polar': 6752,\n",
    "    'equatorial': 6792\n",
    "    }\n",
    "\n",
    "}\n",
    "\n",
    "# Imprime el nombre del planeta con su circunferencia polar.\n",
    "print(f'La luna hasta el momento almacenada es {planet.get(\"name\")}, con un valor de {planet.get(\"moons\")} moons y una circunferencia porlar de {planet.get(\"circunferencia_Km\").get(\"polar\")}')\n",
    "\n",
    "\n",
    "# Si se desea actualizar usando como elemento un objeto diccionario\n",
    "circunferencia_Km_2={\n",
    "    'polar_': 67522,\n",
    "    'equatorial_': 67922\n",
    "}\n",
    "planet.update(circunferencia_Km_2)\n",
    "print(f'La luna hasta el momento almacenada es {planet.get(\"name\")}, con un valor de {planet.get(\"moons\")} moons y una circunferencia porlar de {planet.get(\"polar_\")} ')\n",
    "print('\\n')\n",
    "print('El mismo resultado con otro forma de obtener el valor del elemnto')\n",
    "print(f'La luna hasta el momento almacenada es {planet.get(\"name\")}, con un valor de {planet.get(\"moons\")} moons y una circunferencia porlar de {planet[\"polar_\"]} ')\n",
    "\n",
    "\n"
   ]
  },
  {
   "cell_type": "code",
   "execution_count": 44,
   "metadata": {},
   "outputs": [
    {
     "name": "stdout",
     "output_type": "stream",
     "text": [
      "Valores en el Diccionario\n",
      "dict_values([0, 0, 1, 2, 79, 82, 27, 14, 5, 2, 1, 1])\n",
      "Valores totales\n",
      "214\n",
      "12\n",
      "Procesando con ciclos....\n",
      "Valores totales\n",
      "214\n",
      "12\n",
      "El promedio de lunas por planeta es: 17.833333333333332\n"
     ]
    }
   ],
   "source": [
    "#Cálculo de valores\n",
    "\n",
    "# Planets and moons\n",
    "planet_moons = {\n",
    "    'mercury': 0,\n",
    "    'venus': 0,\n",
    "    'earth': 1,\n",
    "    'mars': 2,\n",
    "    'jupiter': 79,\n",
    "    'saturn': 82,\n",
    "    'uranus': 27,\n",
    "    'neptune': 14,\n",
    "    'pluto': 5,\n",
    "    'haumea': 2,\n",
    "    'makemake': 1,\n",
    "    'eris': 1\n",
    "}\n",
    "print('Valores en el Diccionario')\n",
    "\n",
    "# Añade el código para determinar el número de lunas.\n",
    "\n",
    "print(planet_moons.values()) # valores en el diccionario\n",
    "moons=0 #numero de lunas\n",
    "planets=0 #numero de planetas\n",
    "\n",
    "moons=sum(planet_moons.values())\n",
    "planets=len(planet_moons.items())\n",
    "\n",
    "print('Valores totales')\n",
    "print(moons)\n",
    "print(planets)\n",
    "\n",
    "print('Procesando con ciclos....')\n",
    "moons=0 #numero de lunas\n",
    "planets=0 #numero de planetas\n",
    "\n",
    "for key, val in planet_moons.items():\n",
    "    moons=moons+ int(val)\n",
    "    planets=planets + 1\n",
    "\n",
    "print('Valores totales')\n",
    "print(moons)\n",
    "print(planets)\n",
    "\n",
    "\n",
    "# Agrega el código para contar el número de lunas. \n",
    "Total_moons=0 #total de lunas\n",
    "\n",
    "for key, val in planet_moons.items():\n",
    "    Total_moons=Total_moons+ int(val)\n",
    "\n",
    "if (Total_moons>0 and planets>0):\n",
    "    Promedio=Total_moons/planets\n",
    "    print(\"El promedio de lunas por planeta es: \" + str(Promedio))\n",
    "else:\n",
    "    print(\"El promedio de lunas por planeta es:0\")\n",
    "\n",
    "\n",
    "\n"
   ]
  }
 ],
 "metadata": {
  "interpreter": {
   "hash": "1e8ce49ce6fd8e59951dac52f79b6e2cf27040887d3a1980b69da67aca628ae5"
  },
  "kernelspec": {
   "display_name": "Python 3.10.2 64-bit",
   "language": "python",
   "name": "python3"
  },
  "language_info": {
   "codemirror_mode": {
    "name": "ipython",
    "version": 3
   },
   "file_extension": ".py",
   "mimetype": "text/x-python",
   "name": "python",
   "nbconvert_exporter": "python",
   "pygments_lexer": "ipython3",
   "version": "3.10.2"
  },
  "orig_nbformat": 4
 },
 "nbformat": 4,
 "nbformat_minor": 2
}
