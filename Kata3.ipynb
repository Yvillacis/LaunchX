{
 "cells": [
  {
   "cell_type": "markdown",
   "metadata": {},
   "source": [
    "Ejercicio - Escribir declaraciones if, else, y elif"
   ]
  },
  {
   "cell_type": "code",
   "execution_count": 2,
   "metadata": {},
   "outputs": [
    {
     "name": "stdout",
     "output_type": "stream",
     "text": [
      "All is normal in the current space\n"
     ]
    }
   ],
   "source": [
    "#If, else\n",
    "velocity = 49 #the velocity is in Km/s\n",
    "red_flag = 25 #the velocity is in Km/s to show an alarm to the system.\n",
    "if velocity > red_flag:\n",
    "    print(\"warning an asteroid is commig at \" + str(velocity) + \" km/s\")\n",
    "else:\n",
    "    print(\"All is normal in the current space\")"
   ]
  },
  {
   "cell_type": "code",
   "execution_count": null,
   "metadata": {},
   "outputs": [],
   "source": [
    "#If, else, elif\n",
    "velocity = 19 #the asteroid velocity is in Km/s\n",
    "red_flag = 25 #the velocity is in Km/s to show an alarm to the system.\n",
    "visibleLigth=True \n",
    "if velocity < 20:\n",
    "    print(\"All is normal in the current space\")\n",
    "elif velocity > red_flag:\n",
    "        print(\"warning an asteroid is commig at \" + str(velocity) + \" km/s and his light is possibly visible\")\n",
    "else:\n",
    "        print(\"warning an asteroid is commig at \" + str(velocity) + \" km/s but it is not visible yet, but look in the sky for it.\")\n",
    "   \n",
    "\n",
    "    "
   ]
  },
  {
   "cell_type": "code",
   "execution_count": 6,
   "metadata": {},
   "outputs": [
    {
     "name": "stdout",
     "output_type": "stream",
     "text": [
      "An asteroid is commig at 19 km/s but all is fine.\n"
     ]
    }
   ],
   "source": [
    "#and y or\n",
    "velocity = 19 #the asteroid velocity is in Km/s\n",
    "red_flag = 25 #the velocity is in Km/s to show an alarm to the system.\n",
    "size=30 # size of the asteroid in meters.\n",
    "visibleLigth=20 #km when is visible the ligth \n",
    "if size<25 and velocity <= red_flag: \n",
    "    print(\"All is normal in the current space\")\n",
    "elif  velocity >= red_flag:\n",
    "        print(\"warning an asteroid is commig at \" + str(velocity) + \" km/s , his light is now visible and it are going to produce much damage\")\n",
    "elif velocity>=20:\n",
    "        print(\"warning an  asteroid is commig at \" + str(velocity) + \" km/s and his light is now visible\")\n",
    "else:\n",
    "    \n",
    "        print(\"An asteroid is commig at \" + str(velocity) + \" km/s but all is fine.\")\n"
   ]
  }
 ],
 "metadata": {
  "interpreter": {
   "hash": "1e8ce49ce6fd8e59951dac52f79b6e2cf27040887d3a1980b69da67aca628ae5"
  },
  "kernelspec": {
   "display_name": "Python 3.10.2 64-bit",
   "language": "python",
   "name": "python3"
  },
  "language_info": {
   "codemirror_mode": {
    "name": "ipython",
    "version": 3
   },
   "file_extension": ".py",
   "mimetype": "text/x-python",
   "name": "python",
   "nbconvert_exporter": "python",
   "pygments_lexer": "ipython3",
   "version": "3.10.2"
  },
  "orig_nbformat": 4
 },
 "nbformat": 4,
 "nbformat_minor": 2
}
