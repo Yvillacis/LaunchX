{
 "cells": [
  {
   "cell_type": "markdown",
   "metadata": {},
   "source": [
    "Crear y usar listas de Python"
   ]
  },
  {
   "cell_type": "code",
   "execution_count": 9,
   "metadata": {},
   "outputs": [
    {
     "name": "stdout",
     "output_type": "stream",
     "text": [
      "['Mercury', 'Venus', 'Earth', 'Mars', 'Jupiter', 'Saturn', 'Uranus', 'Neptune']\n",
      "Pluton\n",
      "['Mercury', 'Venus', 'Earth', 'Mars', 'Jupiter', 'Saturn', 'Uranus', 'Neptune', 'Pluton', 'MElocon']\n",
      "The new planet is: MElocon\n",
      "Los planetas mas cercanos al sol son: Mercury,Venus,Earth\n",
      "Los planetas mas alejados al sol son: MElocon,Pluton,Neptune\n"
     ]
    }
   ],
   "source": [
    "# Creamos la lista planets y la mostramos\n",
    "planets=['Mercury', 'Venus', 'Earth', 'Mars', 'Jupiter', 'Saturn', 'Uranus', 'Neptune']\n",
    "print(planets)\n",
    "\n",
    "# Agregamos a plutón y mostramos el último elemento\n",
    "planets.append('Pluton')\n",
    "print(planets[-1])\n",
    "\n",
    "# Solicitamos el nombre de un planeta *Pista:  input()*\n",
    "newPlanet=input('ingrese el nombre de una planeta con la primera letra en mayuscula')\n",
    "planets.append(newPlanet)\n",
    "print(planets)\n",
    "\n",
    "# Busca el planeta en la lista\n",
    "position=planets.index(newPlanet)\n",
    "print('The new planet is: ' + planets[position])\n",
    "\n",
    "# Muestra los planetas más cercanos al sol\n",
    "print ('Los planetas mas cercanos al sol son: ' + planets[planets.index('Mercury')] + ',' +  planets[planets.index('Venus')] + ',' + planets[planets.index('Earth')])\n",
    "\n",
    "# Muestra los planetas más lejanos al sol\n",
    "print ('Los planetas mas alejados al sol son: ' + planets[len(planets) -1 ] + ',' +  planets[len(planets) -2 ] + ',' + planets[len(planets) -3 ])"
   ]
  }
 ],
 "metadata": {
  "interpreter": {
   "hash": "1e8ce49ce6fd8e59951dac52f79b6e2cf27040887d3a1980b69da67aca628ae5"
  },
  "kernelspec": {
   "display_name": "Python 3.10.2 64-bit",
   "language": "python",
   "name": "python3"
  },
  "language_info": {
   "codemirror_mode": {
    "name": "ipython",
    "version": 3
   },
   "file_extension": ".py",
   "mimetype": "text/x-python",
   "name": "python",
   "nbconvert_exporter": "python",
   "pygments_lexer": "ipython3",
   "version": "3.10.2"
  },
  "orig_nbformat": 4
 },
 "nbformat": 4,
 "nbformat_minor": 2
}
