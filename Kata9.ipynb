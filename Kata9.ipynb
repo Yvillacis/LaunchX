{
 "cells": [
  {
   "cell_type": "markdown",
   "metadata": {},
   "source": [
    "Uso de funciones en Python"
   ]
  },
  {
   "cell_type": "code",
   "execution_count": 13,
   "metadata": {},
   "outputs": [
    {
     "name": "stdout",
     "output_type": "stream",
     "text": [
      "Los valores del taque de combustible son: 15,8,6\n",
      "Los valores del taque de combustible son:\n",
      "(150, 82, 63)\n",
      "El promedio de los tanques de combustible es:\n",
      "4.0\n",
      "El valor promedio del taque de combustible es:\n",
      "11.666666666666666\n"
     ]
    }
   ],
   "source": [
    "# Función para leer 3 tanques de combustible y muestre el promedio\n",
    "\n",
    "def TanquesCombustible(val1,val2,val3):\n",
    "    print (f\"Los valores del taque de combustible son: {val1},{val2},{val3}\")\n",
    "\n",
    "TanquesCombustible(15,8,6)\n",
    "\n",
    "# Llamamos a la función que genera el reporte print(funcion(tanque1, tanque2, tanque3))\n",
    "def TanquesCombustible(val1,val2,val3):\n",
    "     return val1, val2,val3\n",
    "print (f\"Los valores del taque de combustible son:\")\n",
    "print(TanquesCombustible(150,82,63))\n",
    "\n",
    "\n",
    "# Función promedio \n",
    "promedio=0\n",
    "def PromedioTanquesCombustible(val1,val2,val3):\n",
    "     promedio=( val1 +  val2 + val3)/3\n",
    "     return promedio\n",
    "print(\"El promedio de los tanques de combustible es:\")\n",
    "print(PromedioTanquesCombustible(6,4,2))\n",
    "\n",
    "\n",
    "# Actualiza la función\n",
    "def TanquesCombustible(val1,val2,val3):\n",
    "     return PromedioTanquesCombustible(val1, val2,val3)\n",
    "print (f\"El valor promedio del taque de combustible es:\")\n",
    "print(TanquesCombustible(10,12,13))"
   ]
  },
  {
   "cell_type": "code",
   "execution_count": 58,
   "metadata": {},
   "outputs": [
    {
     "name": "stdout",
     "output_type": "stream",
     "text": [
      " Informacion de la Mision:\n",
      "           Destino: Monaco \n",
      "           Duracion: 23\n",
      "           Total de Combustible: 5 \n",
      "         \n",
      " Informacion de la Mision:\n",
      "           Destino: Roma \n",
      "           Duracion: 26\n",
      "           Total de Combustible: 4 \n",
      "         \n",
      " Informacion de la Mision:\n",
      "           Destino: Roma \n",
      "           Duracion: 26\n",
      "           Total de Combustible: 4 \n",
      "         \n",
      " Tanque principal : 3 galones.\n",
      " Tanque externo : 1 galones.\n",
      "\n"
     ]
    }
   ],
   "source": [
    "#Trabajo con argumentos de palabra clave\n",
    "\n",
    "# Función con un informe preciso de la misión. Considera hora de prelanzamiento, tiempo de vuelo, destino, tanque externo y tanque interno\n",
    "def mision(prelanzamiento,tiempo,destino,tanque_externo,tanque_interno):\n",
    "    msg=f\"\"\" Informacion de la Mision:\n",
    "           Destino: {destino} \n",
    "           Duracion: {prelanzamiento  + tiempo}\n",
    "           Total de Combustible: {tanque_externo + tanque_interno} \n",
    "         \"\"\"\n",
    "    return msg\n",
    "\n",
    "print(mision(15,8,'Monaco',4,1))\n",
    "\n",
    "# Hazlo más flexible permitiendo cualquier número de pasos basados en el tiempo y cualquier número de tanques. \n",
    "# Escribe tu nueva función de reporte considerando lo anterior\n",
    "def mision(prelanzamiento, destino,*tiempo,**tanque_combustible):\n",
    "    msg=f\"\"\" Informacion de la Mision:\n",
    "           Destino: {destino} \n",
    "           Duracion: {prelanzamiento  + sum(tiempo)}\n",
    "           Total de Combustible: {sum(tanque_combustible.values())} \n",
    "         \"\"\"\n",
    "    return msg\n",
    "\n",
    "print(mision(15,'Roma',5,4,2,tanqueA=3,tanqueB=1))\n",
    "\n",
    "# Debido a que el combustible que queda en los tanques es específico de cada tanque, actualiza la función para usar el nombre de cada tanque en el informe:\n",
    "# Escribe tu nueva función\n",
    "def mision(prelanzamiento, destino,*tiempo,**tanque_combustible):\n",
    "    msg=f\"\"\" Informacion de la Mision:\n",
    "           Destino: {destino} \n",
    "           Duracion: {prelanzamiento  + sum(tiempo)}\n",
    "           Total de Combustible: {sum(tanque_combustible.values())} \n",
    "         \"\"\"\n",
    "    #print(msg)\n",
    "    msg=msg + '\\n'\n",
    "    for key, value in tanque_combustible.items():\n",
    "        msg= msg + f' Tanque {key} : {value} galones.'\n",
    "        msg=msg + '\\n'\n",
    "    return msg \n",
    "\n",
    "print(mision(15,'Roma',5,4,2,principal=3,externo=1))\n",
    "\n"
   ]
  }
 ],
 "metadata": {
  "interpreter": {
   "hash": "1e8ce49ce6fd8e59951dac52f79b6e2cf27040887d3a1980b69da67aca628ae5"
  },
  "kernelspec": {
   "display_name": "Python 3.10.2 64-bit",
   "language": "python",
   "name": "python3"
  },
  "language_info": {
   "codemirror_mode": {
    "name": "ipython",
    "version": 3
   },
   "file_extension": ".py",
   "mimetype": "text/x-python",
   "name": "python",
   "nbconvert_exporter": "python",
   "pygments_lexer": "ipython3",
   "version": "3.10.2"
  },
  "orig_nbformat": 4
 },
 "nbformat": 4,
 "nbformat_minor": 2
}
